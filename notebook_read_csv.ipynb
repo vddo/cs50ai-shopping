{
 "cells": [
  {
   "cell_type": "code",
   "execution_count": 3,
   "metadata": {},
   "outputs": [],
   "source": [
    "import csv"
   ]
  },
  {
   "cell_type": "code",
   "execution_count": 21,
   "metadata": {},
   "outputs": [],
   "source": [
    "list_months = ['Jan', 'Feb', 'Mar', 'Apr', 'May', 'June', 'Jul', 'Aug', 'Sep', 'Oct', 'Nov', 'Dec']"
   ]
  },
  {
   "cell_type": "code",
   "execution_count": 23,
   "metadata": {},
   "outputs": [],
   "source": [
    "dict_months = dict()\n",
    "i = 0\n",
    "for month in list_months:\n",
    "    dict_months[month] = i\n",
    "    i += 1"
   ]
  },
  {
   "cell_type": "code",
   "execution_count": 24,
   "metadata": {},
   "outputs": [
    {
     "data": {
      "text/plain": [
       "{'Jan': 0,\n",
       " 'Feb': 1,\n",
       " 'Mar': 2,\n",
       " 'Apr': 3,\n",
       " 'May': 4,\n",
       " 'June': 5,\n",
       " 'Jul': 6,\n",
       " 'Aug': 7,\n",
       " 'Sep': 8,\n",
       " 'Oct': 9,\n",
       " 'Nov': 10,\n",
       " 'Dec': 11}"
      ]
     },
     "execution_count": 24,
     "metadata": {},
     "output_type": "execute_result"
    }
   ],
   "source": [
    "dict_months"
   ]
  },
  {
   "cell_type": "code",
   "execution_count": 77,
   "metadata": {},
   "outputs": [],
   "source": [
    "# a_list = list()\n",
    "# b_list = list()\n",
    "# a_set = set()\n",
    "\n",
    "evidence = list()\n",
    "labels = list()\n",
    "\n",
    "with open('shopping.csv', newline='') as f:\n",
    "    reader = csv.reader(f)\n",
    "\n",
    "    next(reader, None) # Skip the header\n",
    "    \n",
    "    for row in reader:\n",
    "        # a_set.add(dict_months[row[10]])\n",
    "        # a_list.append([dict_months[row[10]]])\n",
    "        # b_list.append(row)\n",
    "\n",
    "        # Append Administrative, int, [0]\n",
    "        # Administrative_Duration, float, [1]\n",
    "        # Informational, int, [2]\n",
    "        # Informational_Duration, float [3]\n",
    "        # ProductRelated, int, [4]\n",
    "        # ProductRelated_Duration, float [5]\n",
    "        # BounceRates, float [6]\n",
    "        # ExitRates, float [7]\n",
    "        # PageValues, float [8]\n",
    "        # SpecialDay, float [9]\n",
    "        # Month, index from dict_months [10]\n",
    "        # OperatingSystems, int, [11]\n",
    "        # Browser, int, [12]\n",
    "        # Region, int, [13]\n",
    "        # TrafficType, int, [14]\n",
    "        # VisitorType, int, [15]\n",
    "        # Weekend, int, [16]\n",
    "\n",
    "        # Rewrite visitor type\n",
    "        if row[15] == 'Returning_Visitor':\n",
    "            visitor_type = 1\n",
    "        else:\n",
    "            visitor_type = 0\n",
    "\n",
    "        # Rewrite weekend\n",
    "        if row[16] == 'TRUE':\n",
    "            weekend = 1\n",
    "        else:\n",
    "            weekend = 0\n",
    "\n",
    "        evidence.append([\n",
    "            int(row[0]), float(row[1]), int(row[2]), float(row[3]), int(row[4]), float(row[5]),\n",
    "            float(row[6]), float(row[7]), float(row[8]), float(row[9]), dict_months[row[10]], \n",
    "            int(row[11]), int(row[12]), int(row[13]), int(row[14]), visitor_type, weekend\n",
    "        ])\n",
    "\n",
    "        # Rewrite revenue\n",
    "        if row[-1] == 'TRUE':\n",
    "            revenue = 1\n",
    "        else:\n",
    "            revenue = 0\n",
    "\n",
    "        labels.append(\n",
    "            revenue\n",
    "        )"
   ]
  },
  {
   "cell_type": "code",
   "execution_count": 57,
   "metadata": {},
   "outputs": [
    {
     "data": {
      "text/plain": [
       "[[1], [0, 0.0]]"
      ]
     },
     "execution_count": 57,
     "metadata": {},
     "output_type": "execute_result"
    }
   ],
   "source": [
    "a_list = [[1]]\n",
    "a_list.append([int(b_list[0][0]), float(b_list[0][1])])\n",
    "a_list"
   ]
  },
  {
   "cell_type": "code",
   "execution_count": 84,
   "metadata": {},
   "outputs": [
    {
     "name": "stdout",
     "output_type": "stream",
     "text": [
      "17\n",
      "12330\n",
      "[0, 0.0, 0, 0.0, 1, 0.0, 0.2, 0.2, 0.0, 0.0, 1, 1, 1, 1, 1, 1, 0]\n"
     ]
    }
   ],
   "source": [
    "print(len(evidence[0]))\n",
    "print(len(evidence))\n",
    "print(evidence[0])"
   ]
  },
  {
   "cell_type": "code",
   "execution_count": 83,
   "metadata": {},
   "outputs": [
    {
     "data": {
      "text/plain": [
       "0"
      ]
     },
     "execution_count": 83,
     "metadata": {},
     "output_type": "execute_result"
    }
   ],
   "source": [
    "labels[0]"
   ]
  },
  {
   "cell_type": "code",
   "execution_count": 54,
   "metadata": {},
   "outputs": [
    {
     "data": {
      "text/plain": [
       "['0',\n",
       " '0',\n",
       " '0',\n",
       " '0',\n",
       " '1',\n",
       " '0',\n",
       " '0.2',\n",
       " '0.2',\n",
       " '0',\n",
       " '0',\n",
       " 'Feb',\n",
       " '1',\n",
       " '1',\n",
       " '1',\n",
       " '1',\n",
       " 'Returning_Visitor',\n",
       " 'FALSE',\n",
       " 'FALSE']"
      ]
     },
     "execution_count": 54,
     "metadata": {},
     "output_type": "execute_result"
    }
   ],
   "source": [
    "b_list[0]"
   ]
  },
  {
   "cell_type": "code",
   "execution_count": 26,
   "metadata": {},
   "outputs": [
    {
     "data": {
      "text/plain": [
       "12330"
      ]
     },
     "execution_count": 26,
     "metadata": {},
     "output_type": "execute_result"
    }
   ],
   "source": [
    "len(a_list)"
   ]
  },
  {
   "cell_type": "code",
   "execution_count": 52,
   "metadata": {},
   "outputs": [
    {
     "data": {
      "text/plain": [
       "{1, 2, 4, 5, 6, 7, 8, 9, 10, 11}"
      ]
     },
     "execution_count": 52,
     "metadata": {},
     "output_type": "execute_result"
    }
   ],
   "source": [
    "a_set"
   ]
  },
  {
   "cell_type": "code",
   "execution_count": 44,
   "metadata": {},
   "outputs": [],
   "source": [
    "b_sublist = list()\n",
    "for b in b_list[0][:4]:\n",
    "    b_sublist.append([int(b)])"
   ]
  },
  {
   "cell_type": "code",
   "execution_count": 45,
   "metadata": {},
   "outputs": [
    {
     "data": {
      "text/plain": [
       "[[0], [0], [0], [0]]"
      ]
     },
     "execution_count": 45,
     "metadata": {},
     "output_type": "execute_result"
    }
   ],
   "source": [
    "b_sublist"
   ]
  },
  {
   "cell_type": "code",
   "execution_count": 68,
   "metadata": {},
   "outputs": [
    {
     "data": {
      "text/plain": [
       "True"
      ]
     },
     "execution_count": 68,
     "metadata": {},
     "output_type": "execute_result"
    }
   ],
   "source": [
    "type(evidence[0][1]) == float"
   ]
  },
  {
   "cell_type": "code",
   "execution_count": 79,
   "metadata": {},
   "outputs": [
    {
     "name": "stdout",
     "output_type": "stream",
     "text": [
      "12330 Nothing wrong\n"
     ]
    }
   ],
   "source": [
    "# Check evidence list if there is any value with a different type than int or float \n",
    "\n",
    "n = 0\n",
    "\n",
    "for i in evidence:\n",
    "    for j in i:\n",
    "        if type(j) is float:\n",
    "            continue\n",
    "        elif type(j) is int:\n",
    "            continue\n",
    "        else:\n",
    "            print(n)\n",
    "            raise Exception('Faulty data found')\n",
    "    n += 1\n",
    "\n",
    "print(n, 'Nothing wrong')"
   ]
  },
  {
   "cell_type": "code",
   "execution_count": 81,
   "metadata": {},
   "outputs": [
    {
     "name": "stdout",
     "output_type": "stream",
     "text": [
      "12330 Nothing wrong\n"
     ]
    }
   ],
   "source": [
    "# Check labels list if there is any value with a different type than int\n",
    "\n",
    "n = 0\n",
    "\n",
    "for i in evidence:\n",
    "    if type(j) is int:\n",
    "        n += 1\n",
    "        continue\n",
    "    else:\n",
    "        print(n)\n",
    "        raise Exception('Faulty data found')\n",
    "    \n",
    "\n",
    "print(n, 'Nothing wrong')"
   ]
  },
  {
   "cell_type": "code",
   "execution_count": 2,
   "metadata": {},
   "outputs": [],
   "source": [
    "from shopping import load_data"
   ]
  },
  {
   "cell_type": "code",
   "execution_count": 4,
   "metadata": {},
   "outputs": [],
   "source": [
    "evidence, labels = load_data('shopping.csv')"
   ]
  },
  {
   "cell_type": "code",
   "execution_count": 7,
   "metadata": {},
   "outputs": [
    {
     "name": "stdout",
     "output_type": "stream",
     "text": [
      "12330\n",
      "[0, 0.0, 0, 0.0, 1, 0.0, 0.2, 0.2, 0.0, 0.0, 1, 1, 1, 1, 1, 1, 0]\n",
      "12330\n",
      "0\n"
     ]
    }
   ],
   "source": [
    "print(len(evidence))\n",
    "print(evidence[0])\n",
    "print(len(labels))\n",
    "print(labels[0])"
   ]
  },
  {
   "cell_type": "code",
   "execution_count": null,
   "metadata": {},
   "outputs": [],
   "source": []
  }
 ],
 "metadata": {
  "kernelspec": {
   "display_name": "Python 3.10.4 64-bit",
   "language": "python",
   "name": "python3"
  },
  "language_info": {
   "codemirror_mode": {
    "name": "ipython",
    "version": 3
   },
   "file_extension": ".py",
   "mimetype": "text/x-python",
   "name": "python",
   "nbconvert_exporter": "python",
   "pygments_lexer": "ipython3",
   "version": "3.10.4"
  },
  "orig_nbformat": 4,
  "vscode": {
   "interpreter": {
    "hash": "aee8b7b246df8f9039afb4144a1f6fd8d2ca17a180786b69acc140d282b71a49"
   }
  }
 },
 "nbformat": 4,
 "nbformat_minor": 2
}
